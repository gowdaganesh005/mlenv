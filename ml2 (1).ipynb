{
 "cells": [
  {
   "cell_type": "code",
   "execution_count": 1,
   "id": "baab9b1b-93ea-4946-97cb-85b8c1ea12f0",
   "metadata": {},
   "outputs": [
    {
     "name": "stdout",
     "output_type": "stream",
     "text": [
      "Training Perceptron for AND gate:\n",
      "Input: [0 0], Output: 0\n",
      "Input: [0 1], Output: 0\n",
      "Input: [1 0], Output: 0\n",
      "Input: [1 1], Output: 1\n",
      "\n",
      "Training Perceptron for OR gate:\n",
      "Input: [0 0], Output: 0\n",
      "Input: [0 1], Output: 1\n",
      "Input: [1 0], Output: 1\n",
      "Input: [1 1], Output: 1\n"
     ]
    }
   ],
   "source": [
    "import numpy as np\n",
    "\n",
    "class Perceptron:\n",
    "    def __init__(self, input_size, learning_rate=0.1, epochs=10):\n",
    "        self.weights = np.zeros(input_size + 1)  # +1 for bias\n",
    "        self.lr = learning_rate\n",
    "        self.epochs = epochs\n",
    "\n",
    "    def activation(self, x):\n",
    "        return 1 if x >= 0 else 0\n",
    "\n",
    "    def predict(self, x):\n",
    "        x = np.insert(x, 0, 1)  # insert bias input 1 at position 0\n",
    "        weighted_sum = np.dot(self.weights, x)\n",
    "        return self.activation(weighted_sum)\n",
    "\n",
    "    def train(self, X, y):\n",
    "        for _ in range(self.epochs):\n",
    "            for i in range(len(X)):\n",
    "                x_i = np.insert(X[i], 0, 1)  # add bias input\n",
    "                prediction = self.activation(np.dot(self.weights, x_i))\n",
    "                self.weights += self.lr * (y[i] - prediction) * x_i\n",
    "\n",
    "# Input and output for AND gate\n",
    "X = np.array([[0,0], [0,1], [1,0], [1,1]])\n",
    "y_and = np.array([0, 0, 0, 1])\n",
    "\n",
    "# Input and output for OR gate\n",
    "y_or = np.array([0, 1, 1, 1])\n",
    "\n",
    "print(\"Training Perceptron for AND gate:\")\n",
    "p_and = Perceptron(input_size=2)\n",
    "p_and.train(X, y_and)\n",
    "for x in X:\n",
    "    print(f\"Input: {x}, Output: {p_and.predict(x)}\")\n",
    "\n",
    "print(\"\\nTraining Perceptron for OR gate:\")\n",
    "p_or = Perceptron(input_size=2)\n",
    "p_or.train(X, y_or)\n",
    "for x in X:\n",
    "    print(f\"Input: {x}, Output: {p_or.predict(x)}\")\n"
   ]
  },
  {
   "cell_type": "code",
   "execution_count": 7,
   "id": "5141bc51-9f4e-4868-85bc-77f0a37b65e8",
   "metadata": {},
   "outputs": [
    {
     "name": "stdout",
     "output_type": "stream",
     "text": [
      "Classification Report:\n",
      "               precision    recall  f1-score   support\n",
      "\n",
      "           0       1.00      1.00      1.00         1\n",
      "           1       1.00      1.00      1.00         1\n",
      "\n",
      "    accuracy                           1.00         2\n",
      "   macro avg       1.00      1.00      1.00         2\n",
      "weighted avg       1.00      1.00      1.00         2\n",
      "\n"
     ]
    },
    {
     "data": {
      "image/png": "[encoded data removed]",
      "text/plain": [
       "<Figure size 640x480 with 2 Axes>"
      ]
     },
     "metadata": {},
     "output_type": "display_data"
    }
   ],
   "source": [
    "import pandas as pd\n",
    "import numpy as np\n",
    "from sklearn.neural_network import MLPClassifier\n",
    "from sklearn.model_selection import train_test_split\n",
    "from sklearn.preprocessing import LabelEncoder, StandardScaler\n",
    "from sklearn.metrics import classification_report, confusion_matrix\n",
    "import seaborn as sns\n",
    "import matplotlib.pyplot as plt\n",
    "\n",
    "# Load the dataset\n",
    "df = pd.read_csv('crab.csv')  # Make sure the file is not empty\n",
    "\n",
    "# Encode categorical features\n",
    "df['sex'] = LabelEncoder().fit_transform(df['sex'])  # M = 1, F = 0\n",
    "df['sp'] = LabelEncoder().fit_transform(df['sp'])    # B = 0, O = 1\n",
    "\n",
    "# Features and label\n",
    "X = df[['FL', 'RW', 'CL', 'CW', 'BD']]\n",
    "y = df['sp']\n",
    "\n",
    "# Scale the features\n",
    "scaler = StandardScaler()\n",
    "X_scaled = scaler.fit_transform(X)\n",
    "\n",
    "# Train-test split\n",
    "X_train, X_test, y_train, y_test = train_test_split(X_scaled, y, test_size=0.2, random_state=1)\n",
    "\n",
    "# Train MLP (PatternNet style)\n",
    "model = MLPClassifier(hidden_layer_sizes=(10,), max_iter=1000, random_state=1)\n",
    "model.fit(X_train, y_train)\n",
    "\n",
    "# Evaluate\n",
    "y_pred = model.predict(X_test)\n",
    "print(\"Classification Report:\\n\", classification_report(y_test, y_pred))\n",
    "\n",
    "# Plot confusion matrix\n",
    "cm = confusion_matrix(y_test, y_pred)\n",
    "sns.heatmap(cm, annot=True, fmt='d', cmap='Blues', xticklabels=['B', 'O'], yticklabels=['B', 'O'])\n",
    "plt.xlabel('Predicted')\n",
    "plt.ylabel('Actual')\n",
    "plt.title('Confusion Matrix')\n",
    "plt.show()\n",
    "\n"
   ]
  },
  {
   "cell_type": "code",
   "execution_count": 8,
   "id": "5b584e04-0d87-4507-bf9a-9cb02b22ecd0",
   "metadata": {},
   "outputs": [
    {
     "name": "stdout",
     "output_type": "stream",
     "text": [
      "Classification Report:\n",
      "              precision    recall  f1-score   support\n",
      "\n",
      "     class_0       1.00      1.00      1.00        19\n",
      "     class_1       1.00      1.00      1.00        21\n",
      "     class_2       1.00      1.00      1.00        14\n",
      "\n",
      "    accuracy                           1.00        54\n",
      "   macro avg       1.00      1.00      1.00        54\n",
      "weighted avg       1.00      1.00      1.00        54\n",
      "\n"
     ]
    },
    {
     "data": {
      "image/png": "[encoded data removed]",
      "text/plain": [
       "<Figure size 640x480 with 2 Axes>"
      ]
     },
     "metadata": {},
     "output_type": "display_data"
    }
   ],
   "source": [
    "from sklearn.datasets import load_wine\n",
    "from sklearn.model_selection import train_test_split\n",
    "from sklearn.preprocessing import StandardScaler\n",
    "from sklearn.neural_network import MLPClassifier\n",
    "from sklearn.metrics import classification_report, confusion_matrix\n",
    "import matplotlib.pyplot as plt\n",
    "import seaborn as sns\n",
    "\n",
    "# Load the Wine dataset\n",
    "data = load_wine()\n",
    "X = data.data\n",
    "y = data.target\n",
    "target_names = data.target_names\n",
    "\n",
    "# Split into training and testing sets\n",
    "X_train, X_test, y_train, y_test = train_test_split(X, y, test_size=0.3, random_state=42)\n",
    "\n",
    "# Normalize features\n",
    "scaler = StandardScaler()\n",
    "X_train = scaler.fit_transform(X_train)\n",
    "X_test = scaler.transform(X_test)\n",
    "\n",
    "# Build the MLP model (with backpropagation)\n",
    "mlp = MLPClassifier(hidden_layer_sizes=(10, 5), activation='relu', solver='adam', max_iter=1000, random_state=1)\n",
    "mlp.fit(X_train, y_train)\n",
    "\n",
    "# Predict\n",
    "y_pred = mlp.predict(X_test)\n",
    "\n",
    "# Evaluation\n",
    "print(\"Classification Report:\")\n",
    "print(classification_report(y_test, y_pred, target_names=target_names))\n",
    "\n",
    "# Confusion Matrix\n",
    "cm = confusion_matrix(y_test, y_pred)\n",
    "sns.heatmap(cm, annot=True, cmap=\"Blues\", xticklabels=target_names, yticklabels=target_names)\n",
    "plt.xlabel(\"Predicted\")\n",
    "plt.ylabel(\"Actual\")\n",
    "plt.title(\"Wine Classification - Confusion Matrix\")\n",
    "plt.show()\n"
   ]
  },
  {
   "cell_type": "code",
   "execution_count": 10,
   "id": "bb62da81-972c-4191-904f-39c33e1cc378",
   "metadata": {},
   "outputs": [
    {
     "name": "stdout",
     "output_type": "stream",
     "text": [
      "Jacobian:\n",
      " tensor([0.1696, 0.0187], grad_fn=<SqueezeBackward0>)\n",
      "Hessian:\n",
      " tensor([[-0.0724, -0.0289],\n",
      "        [-0.0289, -0.0651]])\n"
     ]
    }
   ],
   "source": [
    "import torch\n",
    "import torch.nn as nn\n",
    "\n",
    "\n",
    "class Net(nn.Module):\n",
    "    def __init__(self):\n",
    "        super(Net, self).__init__()\n",
    "        self.fc1 = nn.Linear(2, 4)\n",
    "        self.fc2 = nn.Linear(4, 1)\n",
    "\n",
    "    def forward(self, x):\n",
    "        x = torch.tanh(self.fc1(x))  \n",
    "        return self.fc2(x)\n",
    "\n",
    "model = Net()\n",
    "\n",
    "\n",
    "x = torch.tensor([[1.0, 2.0]], requires_grad=True)\n",
    "\n",
    "\n",
    "output = model(x)\n",
    "\n",
    "\n",
    "def compute_jacobian(output, input):\n",
    "    jacobian = []\n",
    "    for i in range(output.shape[1] if output.ndim > 1 else 1):\n",
    "        grad_output = torch.zeros_like(output)\n",
    "        if output.ndim > 1:\n",
    "            grad_output[0, i] = 1.0\n",
    "        else:\n",
    "            grad_output[0] = 1.0\n",
    "        grad = torch.autograd.grad(outputs=output, inputs=input,\n",
    "                                   grad_outputs=grad_output,\n",
    "                                   retain_graph=True, create_graph=True)[0]\n",
    "        jacobian.append(grad)\n",
    "    return torch.stack(jacobian)\n",
    "\n",
    "jacobian = compute_jacobian(output, x)\n",
    "print(\"Jacobian:\\n\", jacobian.squeeze())\n",
    "\n",
    "\n",
    "def compute_hessian(output, input):\n",
    "    jac = torch.autograd.grad(output, input, create_graph=True)[0]\n",
    "    hessian_rows = []\n",
    "    for i in range(input.numel()):\n",
    "        grad2 = torch.autograd.grad(jac[0, i], input, retain_graph=True)[0]\n",
    "        hessian_rows.append(grad2[0])\n",
    "    return torch.stack(hessian_rows)\n",
    "\n",
    "hessian = compute_hessian(output, x)\n",
    "print(\"Hessian:\\n\", hessian)\n",
    "\n"
   ]
  },
  {
   "cell_type": "code",
   "execution_count": null,
   "id": "7336d8af-78b3-4650-8288-881275a43105",
   "metadata": {},
   "outputs": [],
   "source": []
  }
 ],
 "metadata": {
  "kernelspec": {
   "display_name": "Python(dipenv)",
   "language": "python",
   "name": "dipenv"
  },
  "language_info": {
   "codemirror_mode": {
    "name": "ipython",
    "version": 3
   },
   "file_extension": ".py",
   "mimetype": "text/x-python",
   "name": "python",
   "nbconvert_exporter": "python",
   "pygments_lexer": "ipython3",
   "version": "3.11.4"
  }
 },
 "nbformat": 4,
 "nbformat_minor": 5
}
